{
 "cells": [
  {
   "cell_type": "code",
   "execution_count": null,
   "metadata": {},
   "outputs": [],
   "source": [
    "# 导入各种库\n",
    "import numpy as np\n",
    "import pandas as pd\n",
    "import matplotlib.pyplot as plt\n",
    "import seaborn as sns\n",
    "from sklearn.model_selection import train_test_split \n",
    "import lightgbm as lgb\n",
    "from sklearn.model_selection import GridSearchCV"
   ]
  },
  {
   "cell_type": "code",
   "execution_count": null,
   "metadata": {},
   "outputs": [],
   "source": [
    "# 读取数据\n",
    "train_data= pd.read_csv('zhengqi_train.txt',sep='\\t')\n",
    "test_data= pd.read_csv('zhengqi_test.txt',sep='\\t')\n",
    "\n",
    "# 提取标签值\n",
    "feature_list= list(train_data.columns)\n",
    "feature_list.remove('target')"
   ]
  },
  {
   "cell_type": "code",
   "execution_count": null,
   "metadata": {},
   "outputs": [],
   "source": [
    "# 可视化观察数据分布\n",
    "# 观察训练集与测试集各特征分布是否相同\n",
    "plt.figure(figsize=(30,30))\n",
    "for i in range(38):\n",
    "    ax=plt.subplot(8,5,i+1)\n",
    "    pd.DataFrame(train_data).iloc[:,i].plot(kind='kde',ax=ax,color='y')\n",
    "    pd.DataFrame(test_data).iloc[:,i].plot(kind='kde',ax=ax)\n",
    "    ax.set_title(test_data.columns[i])\n",
    "    "
   ]
  },
  {
   "cell_type": "code",
   "execution_count": null,
   "metadata": {},
   "outputs": [],
   "source": [
    "# 删除分布差异较大的属性\n",
    "train_data=train_data[['V0','V1','V3','V4','V7','V8','V10','V12','V15','V16','V18','V25','V26','V28','V29','V30','V31','V32','V33','V34','V36','V37','target']]\n",
    "test_data=test_data[['V0','V1','V3','V4','V7','V8','V10','V12','V15','V16','V18','V25','V26','V28','V29','V30','V31','V32','V33','V34','V36','V37']]\n",
    "\n",
    "# 更新列表\n",
    "feature_list=list(train_data.columns)\n",
    "feature_list.remove('target')"
   ]
  },
  {
   "cell_type": "code",
   "execution_count": null,
   "metadata": {},
   "outputs": [],
   "source": [
    "# 根据相关性删除数据\n",
    "t=train_data.corr()"
   ]
  },
  {
   "cell_type": "code",
   "execution_count": null,
   "metadata": {},
   "outputs": [],
   "source": [
    "drop_columns=t[(np.abs(t['target'])<0.5)].index\n",
    "train_data.drop(columns=drop_columns,inplace=True)\n",
    "test_data.drop(columns=drop_columns,inplace=True)"
   ]
  },
  {
   "cell_type": "code",
   "execution_count": null,
   "metadata": {},
   "outputs": [],
   "source": [
    "# 更新列表\n",
    "feature_list=list(train_data.columns)\n",
    "feature_list.remove('target')"
   ]
  },
  {
   "cell_type": "code",
   "execution_count": null,
   "metadata": {},
   "outputs": [],
   "source": [
    "# 交叉验证法\n",
    "X= train_data.iloc[:,:-1]\n",
    "y= train_data['target']\n",
    "X_train,X_test,y_train,y_test= train_test_split(X,y,test_size=0.25)\n",
    "\n",
    "X_train.reset_index(drop=True)\n",
    "X_test.reset_index(drop=True)\n",
    "y_train.reset_index(drop=True)\n",
    "y_test.reset_index(drop=True)"
   ]
  },
  {
   "cell_type": "code",
   "execution_count": null,
   "metadata": {},
   "outputs": [],
   "source": [
    "X_train=np.array(X_train)\n",
    "X_test=np.array(X_test)\n",
    "y_train=np.array(y_train)\n",
    "y_test=np.array(y_test)"
   ]
  },
  {
   "cell_type": "code",
   "execution_count": null,
   "metadata": {},
   "outputs": [],
   "source": [
    "# xgboost算法\n",
    "from sklearn.metrics import mean_squared_error\n",
    "import xgboost as xgb\n",
    "\n",
    "model_xgb=xgb.XGBRegressor(max_depth=4,learning_rate=0.1,n_estimators=100,objective='reg:linear')\n",
    "model_xgb.fit(X_train,y_train)\n",
    "\n",
    "predict_xgb=model_xgb.predict(X_test)\n",
    "mse_xgb=mean_squared_error(y_test,predict_xgb)\n",
    "\n",
    "plt.plot(y_test)\n",
    "plt.plot(predict_xgb)"
   ]
  },
  {
   "cell_type": "code",
   "execution_count": null,
   "metadata": {},
   "outputs": [],
   "source": [
    "# GBDT Regression\n",
    "from sklearn.ensemble import GradientBoostingRegressor\n",
    "model_gbdt=GradientBoostingRegressor(\n",
    "    loss='ls',\n",
    "    learning_rate=0.04,\n",
    "    n_estimators=200,\n",
    "    subsample=1,\n",
    "    min_samples_split=2,\n",
    "    min_samples_leaf=1,\n",
    "    max_depth=3,\n",
    "    alpha=0.9,\n",
    "    verbose=0,\n",
    ")\n",
    "\n",
    "model_gbdt.fit(X_train,y_train)\n",
    "\n",
    "predict_gbdt=model_gbdt.predict(X_test)\n",
    "\n",
    "mse_gbdt=mean_squared_error(y_test,predict_gbdt)\n",
    "\n",
    "plt.plot(y_test)\n",
    "plt.plot(predict_gbdt)"
   ]
  },
  {
   "cell_type": "code",
   "execution_count": null,
   "metadata": {},
   "outputs": [],
   "source": [
    "#Random Forests\n",
    "from sklearn.ensemble import RandomForestRegressor\n",
    "model_RF=RandomForestRegressor(n_estimators=200,random_state=2)\n",
    "model_RF.fit(X_train,y_train)\n",
    "predict_RF=model_RF.predict(X_test)\n",
    "mse_RF=mean_squared_error(y_test,predict_RF)\n",
    "\n",
    "plt.plot(y_test)\n",
    "plt.plot(predict_RF)\n"
   ]
  },
  {
   "cell_type": "code",
   "execution_count": null,
   "metadata": {},
   "outputs": [],
   "source": [
    "# Bayesian Linear Regression\n",
    "from sklearn import linear_model\n",
    "model_BR=linear_model.BayesianRidge()\n",
    "model_BR.fit(X_train,y_train)\n",
    "\n",
    "predict_BR=model_BR.predict(X_test)\n",
    "mse_BR=mean_squared_error(y_test,predict_BR)\n",
    "\n",
    "plt.plot(y_test)\n",
    "plt.plot(predict_BR)"
   ]
  },
  {
   "cell_type": "code",
   "execution_count": null,
   "metadata": {},
   "outputs": [],
   "source": [
    "# LightGBM 回归算法\n",
    "import lightgbm as lgb\n",
    "model_lgb=lgb.LGBMRegressor()\n",
    "model_lgb.fit(X_train,y_train)\n",
    "\n",
    "predict_lgb=model_lgb.predict(X_test)\n",
    "mse_lgb=mean_squared_error(y_test,predict_lgb)\n",
    "\n",
    "plt.plot(y_test)\n",
    "plt.plot(predict_lgb)"
   ]
  },
  {
   "cell_type": "code",
   "execution_count": null,
   "metadata": {},
   "outputs": [],
   "source": [
    "# DecisionTreeRegressor\n",
    "from sklearn.tree import DecisionTreeRegressor\n",
    "model_DR=DecisionTreeRegressor(splitter='best')\n",
    "model_DR.fit(X_train,y_train)\n",
    "\n",
    "predict_DR=model_DR.predict(X_test)\n",
    "mse_DR=mean_squared_error(y_test,predict_DR)\n",
    "\n",
    "plt.plot(y_test)\n",
    "plt.plot(predict_DR)"
   ]
  },
  {
   "cell_type": "code",
   "execution_count": null,
   "metadata": {},
   "outputs": [],
   "source": [
    "# Lasso 回归\n",
    "from sklearn.linear_model import Lasso\n",
    "model_Las=Lasso(alpha=0.01)\n",
    "model_Las.fit(X_train,y_train)\n",
    "\n",
    "predict_Las=model_Las.predict(X_test)\n",
    "mse_Las=mean_squared_error(y_test,predict_Las)\n",
    "\n",
    "plt.plot(y_test)\n",
    "plt.plot(predict_Las)"
   ]
  },
  {
   "cell_type": "code",
   "execution_count": null,
   "metadata": {},
   "outputs": [],
   "source": [
    "# 模型融合\n",
    "predictions=[]\n",
    "\n",
    "predictions.append(model_BR.predict(X_test))\n",
    "predictions.append(model_gbdt.predict(X_test))\n",
    "predictions.append(model_Las.predict(X_test))\n",
    "predictions.append(model_lgb.predict(X_test))\n",
    "predictions.append(model_RF.predict(X_test))\n",
    "predictions.append(model_xgb.predict(X_test))\n",
    "\n",
    "weights=[0.1,0.4,0.1,0.1,0.1,0.2]\n",
    "\n",
    "weighted_prediction=np.average(predictions,axis=0,weights=weights)\n",
    "mse_sum=mean_squared_error(y_test,weighted_prediction)"
   ]
  },
  {
   "cell_type": "code",
   "execution_count": null,
   "metadata": {},
   "outputs": [],
   "source": [
    "predictions_test=[]\n",
    "\n",
    "predictions_test.append(model_BR.predict(test_data))\n",
    "predictions_test.append(model_gbdt.predict(test_data))\n",
    "predictions_test.append(model_Las.predict(test_data))\n",
    "predictions_test.append(model_lgb.predict(test_data))\n",
    "predictions_test.append(model_RF.predict(test_data))\n",
    "predictions_test.append(model_xgb.predict(test_data))\n",
    "\n",
    "weights=[0.1,0.4,0.1,0.1,0.1,0.2]\n",
    "\n",
    "weighted_prediction=np.average(predictions_test,axis=0,weights=weights)\n"
   ]
  }
 ],
 "metadata": {
  "kernelspec": {
   "display_name": "base",
   "language": "python",
   "name": "python3"
  },
  "language_info": {
   "codemirror_mode": {
    "name": "ipython",
    "version": 3
   },
   "file_extension": ".py",
   "mimetype": "text/x-python",
   "name": "python",
   "nbconvert_exporter": "python",
   "pygments_lexer": "ipython3",
   "version": "3.7.4"
  },
  "orig_nbformat": 4,
  "vscode": {
   "interpreter": {
    "hash": "174a392faf8d24ffdc21ca1c67f0919efea89a90eadd9020558478f09534992e"
   }
  }
 },
 "nbformat": 4,
 "nbformat_minor": 2
}
